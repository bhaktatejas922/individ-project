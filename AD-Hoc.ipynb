{
 "cells": [
  {
   "cell_type": "markdown",
   "metadata": {
    "collapsed": true
   },
   "source": [
    "# Analysis of Ad-Hoc Communications Network\n",
    "The user can supply the overall size of desired coverage footprint andthen we will determine the following:\n",
    "\n",
    "- Given an overall desired coverage footprint and a sequence of n communications\n",
    "towers, what is the resulting resolved coverage?\n",
    "- What is the total area of coverage relative to the desired total coverage area of the\n",
    "original footprint? That is, are there any gaps in coverage?\n",
    "- On average, how many communications towers are required before full coverage is\n",
    "obtained?"
   ]
  },
  {
   "cell_type": "code",
   "execution_count": 351,
   "metadata": {},
   "outputs": [],
   "source": [
    "import numpy as np\n",
    "import matplotlib.pyplot as plt\n",
    "\n",
    "def create_map(w,h):\n",
    "    \"\"\"\n",
    "    Create a blank region area based on user input w and h, and plot the empty map\n",
    "    :param w: width of the desired area \n",
    "    :param h: height of desired area\n",
    "    :return: numpy area of 0's which will represent the blank map area\n",
    "    \"\"\"\n",
    "    blank = np.zeros((h, w))\n",
    "\n",
    "    return blank"
   ]
  },
  {
   "cell_type": "markdown",
   "metadata": {},
   "source": [
    "# Adding a Tower\n",
    "When we add a tower, we will first select a random point, and then select a random coverage area such that the coverage is in-bounds. Tow_placed will represent each tower in the numpy array. We will add the new area, overlap and all to the previous values/coverage. After that, we can seperate everything that is not open area and ignore it temporarily for the sake of finding the maximum coverage area."
   ]
  },
  {
   "cell_type": "code",
   "execution_count": 553,
   "metadata": {},
   "outputs": [],
   "source": [
    "import numpy as np\n",
    "import matplotlib.pyplot as plt\n",
    "import matplotlib.patches\n",
    "\n",
    "rectangle_data = []\n",
    "\n",
    "def add_tower(w,h, data):\n",
    "    \"\"\"\n",
    "    Adds tower, and appends the data of that tower in the form ((starting corner), width, height) to a list so that\n",
    "    each step can be shown in a visualization later on.\n",
    "    :param w: width of region map\n",
    "    :param h: height of region map\n",
    "    :param data: the current map with current amount of towers\n",
    "    :return: updated map with one tower added\n",
    "    \"\"\"\n",
    "    import random\n",
    "    assert isinstance(w,int)\n",
    "    assert isinstance(h,int)\n",
    "    assert w>0 and h>0\n",
    "    \n",
    "    # determines tower random width and height of rectangle (minimum 1)\n",
    "    tow_width = random.randint(1, w+1)\n",
    "    tow_height = random.randint(1, h+1)\n",
    "\n",
    "    # determines which corner to start at, such that the tower is completely within the map\n",
    "    s_cornerw = random.randint(0, (w+1)-tow_width)\n",
    "    s_cornerh = random.randint(0, (h+1)-tow_height)\n",
    "\n",
    "    # update numpy array if there are still towers left to be placed\n",
    "    # tow_placed is the count of how many towers we've placed so far\n",
    "    global tow_placed\n",
    "    global rectangle_data \n",
    "    tow_placed = tow_placed + 1\n",
    "\n",
    "    data1 = np.copy(data)\n",
    "    \n",
    "    # add the new tower in, with overlapping areas and no trimming yet\n",
    "    data[s_cornerh:(s_cornerh+tow_height), s_cornerw:(s_cornerw+tow_width)] += tow_placed\n",
    "    \n",
    "    # call max_rectangle to get the new tower coverage area\n",
    "    rectangle = max_rectangle(data, tow_placed)\n",
    "    \n",
    "    # data[data > tow_placed] = 1\n",
    "    # data[data == tow_placed] = 0\n",
    "    # exit_case will be returned if the whole map is full, to exit a loop in main\n",
    "    exit_case = 1\n",
    "    \n",
    "    # this seemingly complex operation simply flips the starting point, so that its going from top to bottom like before\n",
    "    if (rectangle != 'Area already covered'):\n",
    "        s_cornerw1 = rectangle[0][1]\n",
    "        s_cornerh1 = rectangle[0][0] - rectangle[2] + 1\n",
    "        tow_height1 = rectangle[2]\n",
    "        tow_width1 = rectangle[1]\n",
    "        flipped_rect = ((s_cornerw1, s_cornerh1), tow_width1, tow_height1)\n",
    "        # store coordinate data to rectangle_data for plotting\n",
    "        rectangle_data.append(flipped_rect)\n",
    "        data1[s_cornerh1:(s_cornerh1+tow_height1), s_cornerw1:(s_cornerw1+tow_width1)] += tow_placed\n",
    "    else:\n",
    "        while(rectangle=='Area already covered'):\n",
    "            if(np.count_nonzero(data == 0) == 0): # counts num of zeros somewhat unelegantly\n",
    "                return data, exit_case\n",
    "            data[s_cornerh:(s_cornerh+tow_height), s_cornerw:(s_cornerw+tow_width)] -= tow_placed  # undo addition\n",
    "            tow_placed -= 1\n",
    "            return add_tower(w, h, data)\n",
    "    return data1"
   ]
  },
  {
   "cell_type": "markdown",
   "metadata": {},
   "source": [
    "# Finding the maximum possible rectangle with a Histogram based Analysis\n",
    "Finding the largest area rectangle is a decepitively difficult problem that requires brute force, or a semi-complex algorithm. I found the largest rectangle coverage area by changing the original coverage matrix into a histogram of the values in columns above it. Each of these rows can represent a \"histogram\" of bar plots, and whichever histogram has the largest rectangle, will give us the corner, length and width of the maximum area rectangle"
   ]
  },
  {
   "cell_type": "markdown",
   "metadata": {},
   "source": [
    "# The Histogram Example <br>\n",
    "Input   \t\t\t\t\t\t\t\n",
    "[0 1 1 0]<br>\n",
    "[1 1 1 1]<br>\n",
    "[1 1 1 1]<br>\n",
    "[1 1 0 0]<br>\n",
    "\n",
    "Histogram <br>\n",
    "[0 1 1 0] area = 2 <br>\n",
    "[1 2 2 1] area = 4 <br>\n",
    "[2 3 3 2] area = 8 * this is where the maximum rectangle is!<br> \n",
    "[3 4 0 0] area = 6 <br>\n",
    "\n",
    "(each number represents a \"bar\" if there was a 1 at its place, with the height of the bar (amount of 1s above itself)<br>\n",
    "See an example here: [Histogram Max Rectangle Example](https://www.geeksforgeeks.org/wp-content/uploads/histogram1.png)<br><br>\n",
    "-This method is more efficient than using brute force, it saves more memory, and the Time Complexity is only O(R*X)."
   ]
  },
  {
   "cell_type": "code",
   "execution_count": 393,
   "metadata": {},
   "outputs": [],
   "source": [
    "def max_rectangle(data, tow_placed):\n",
    "    \"\"\"\n",
    "    Updates the numpy array with the new rectangle \n",
    "    :param data: non trimmed map, numpy array\n",
    "    :param tow_placed: number of the tower being placed, int\n",
    "    :return: \n",
    "    \"\"\"\n",
    "    \n",
    "    R = len(data) \n",
    "    C = len(data[0])\n",
    "    \n",
    "    # A will be transformed to represent a \"histogram\" of the coverage area\n",
    "    A = np.copy(data)\n",
    "\n",
    "    # copies the map to A. overlap areas are greater than tow_placed, \n",
    "    # array values that are == to tow_placed represent new coverage areas which will be\n",
    "    #  represented by \"1\"; remove all values but the new coverage areas and make these \"0\"\n",
    "    fully_enclosed = 0\n",
    "    for each_row in range(0, R):\n",
    "        for each_column in range(0, C):\n",
    "            if A[each_row][each_column] == tow_placed:\n",
    "                A[each_row][each_column] = 1\n",
    "            else:\n",
    "                A[each_row][each_column] = 0\n",
    "            #A[A == 3] = 1\n",
    "            #A[A != 3] = 0\n",
    "    # if area is already fully covered, return an error string\n",
    "    if np.count_nonzero(A) == 0:\n",
    "        return \"Area already covered\"\n",
    "    0\n",
    "    # turns A into a \"histogram\" of coverage per column for tower number tow_placed\n",
    "    # The idea is to update each column of a given row with corresponding column of previous row\n",
    "    for each_row in range(1, R):\n",
    "        for each_column in range(0, C):\n",
    "            if A[each_row][each_column] == 1:\n",
    "                A[each_row][each_column] += A[each_row-1][each_column]\n",
    "                \n",
    "    # call maxHistArea, and find which rectangle under the \"histogram\" has the most area.\n",
    "    # make the area of the first row the current max_area\n",
    "    max_area = sum(A[0])\n",
    "    maxarea_row = 0\n",
    "    for each_row in range (0,R):\n",
    "        if maxHistArea(A[each_row]) > max_area:\n",
    "            max_area = maxHistArea(A[each_row])\n",
    "            maxarea_row = each_row\n",
    "\n",
    "            # maxarea_row stores the row number where histogram row max_area was found in. \n",
    "            # this row number is where the the bottom most row in our max rectangle as well\n",
    "    \n",
    "    # Using the maxarea_row number from our \"histogram\" matrix, and the max area value, we can find the length, width, \n",
    "    # and coordinates of the resulting rectangle by using the structure of a histogram\n",
    "\n",
    "    rec_height=1\n",
    "    rec_width=1\n",
    "    for i in A[maxarea_row]:\n",
    "        if (sum(check(A[maxarea_row], i)) * i) == (max_area):\n",
    "            rec_height = i\n",
    "            rec_width = sum(check(A[maxarea_row], i))\n",
    "\n",
    "    # coordinates of starting corner of rectangle\n",
    "    start_corner = np.where((A[maxarea_row]) >= rec_height)\n",
    "    start_corner_col = start_corner[0][0]\n",
    "    start_corner_row = maxarea_row \n",
    "    \n",
    "    return [[start_corner_row, start_corner_col], rec_width, int(rec_height)]"
   ]
  },
  {
   "cell_type": "code",
   "execution_count": 394,
   "metadata": {},
   "outputs": [],
   "source": [
    "def maxHistArea(heights):\n",
    "    \"\"\"\"\n",
    "    Given a list of \"histogram\" heights we will find the maximum possible rectangle area \n",
    "    (we will find the histogram that contains the biggest rectangle)\n",
    "    :param heights: list of \"histogram\" heights\n",
    "    :return int: area of the biggest rectangle in that \"histogram\"\n",
    "    \"\"\"\n",
    "    increasing, area, i = [], 0, 0\n",
    "    while i <= len(heights):\n",
    "        if not increasing or (i < len(heights) and heights[i] > heights[increasing[-1]]):\n",
    "            increasing.append(i)\n",
    "            i += 1\n",
    "        else:\n",
    "            last = increasing.pop()\n",
    "            if not increasing:\n",
    "                area = max(area, heights[last] * i)\n",
    "            else:\n",
    "                area = max(area, heights[last] * (i - increasing[-1] - 1 ))\n",
    "    return area\n"
   ]
  },
  {
   "cell_type": "markdown",
   "metadata": {},
   "source": [
    "# The Check List<br>\n",
    "This list is used as a semi-efficient way of not only double checking the maximum area, but also finding the bottom left most coordinate of the maximum area rectangle. If we first find the row of the histogram with the max Area, we can then make one of these lists for every value in that row. The product of that value * sum(repective list) will give us a possible area rectangle, and if we do it for every value in the row, we can find every single possible rectangle."
   ]
  },
  {
   "cell_type": "code",
   "execution_count": 395,
   "metadata": {},
   "outputs": [],
   "source": [
    "def check(list1, val):\n",
    "    \"\"\"\n",
    "    Given a list, create a list where entries are 1 if value is greater than or equal to val, and 0 otherwise\n",
    "    :param list1: list entered \n",
    "    :param val: val to compare to\n",
    "    :return: binary list\n",
    "    \"\"\"\n",
    "    # traverse in the list\n",
    "    list2 = []\n",
    "    for x in list1:\n",
    " \n",
    "        # compare with all the values\n",
    "        # with val\n",
    "        if x >= val:\n",
    "            list2.append(1)\n",
    "        else:\n",
    "            list2.append(0)\n",
    "            \n",
    "    return list2"
   ]
  },
  {
   "cell_type": "markdown",
   "metadata": {},
   "source": [
    "# Main \n",
    "Combines other functions and adds n towers to the array. Note that main does not plot the towers, it just adds the towers to the map"
   ]
  },
  {
   "cell_type": "code",
   "execution_count": 398,
   "metadata": {},
   "outputs": [],
   "source": [
    "import numpy as np\n",
    "import matplotlib.pyplot as plt\n",
    "import matplotlib.lines \n",
    "import matplotlib.patches as patches\n",
    "\n",
    "def main(n, w, h):\n",
    "    \"\"\"\n",
    "    Sets global variable tow_placed and global list rectangle_data, and adds towers to the map n times. Returns and prints the final updated numpy array\n",
    "    :param n: number of towers to be placed, is decremented every time a tower is placed\n",
    "    :param w: width of map\n",
    "    :param h: height of map\n",
    "    :return: \n",
    "    \"\"\"\n",
    "    assert isinstance(n, int)\n",
    "    assert isinstance(w, int)\n",
    "    assert isinstance(h, int)\n",
    "    assert w>0\n",
    "    assert h>0\n",
    "    assert n>0\n",
    "\n",
    "    # every rectangle stored in the form [[corner_w, corner_h], width, height]\n",
    "    global rectangle_data \n",
    "    rectangle_data = []\n",
    "    global tow_placed \n",
    "    tow_placed = 0\n",
    "    \n",
    "    # creates blank region map\n",
    "    region_map = create_map(w, h)\n",
    "    print (region_map)\n",
    "    print \n",
    "    # adds one tower\n",
    "    x = add_tower(w, h, region_map)\n",
    "    \n",
    "    result_coverage = None\n",
    "    # loops and adds until we have placed n towers, and returns the final array\n",
    "    for n_count in range(1,n):\n",
    "        x = add_tower(w, h, x)\n",
    "        if n_count == n-1:\n",
    "            result_coverage = np.copy(x)\n",
    "    print result_coverage\n",
    "    return result_coverage\n",
    "\n"
   ]
  },
  {
   "cell_type": "markdown",
   "metadata": {},
   "source": [
    "# Example 1\n",
    "Given an overall desired coverage footprint and a sequence of n communications\n",
    "towers, what is the resulting resolved coverage?\n",
    "With n = 7 towers, w = 15, h = 15\n"
   ]
  },
  {
   "cell_type": "code",
   "execution_count": 402,
   "metadata": {},
   "outputs": [
    {
     "name": "stdout",
     "output_type": "stream",
     "text": [
      "[[0. 0. 0. 0. 0. 0. 0. 0. 0. 0. 0. 0. 0. 0. 0.]\n [0. 0. 0. 0. 0. 0. 0. 0. 0. 0. 0. 0. 0. 0. 0.]\n [0. 0. 0. 0. 0. 0. 0. 0. 0. 0. 0. 0. 0. 0. 0.]\n [0. 0. 0. 0. 0. 0. 0. 0. 0. 0. 0. 0. 0. 0. 0.]\n [0. 0. 0. 0. 0. 0. 0. 0. 0. 0. 0. 0. 0. 0. 0.]\n [0. 0. 0. 0. 0. 0. 0. 0. 0. 0. 0. 0. 0. 0. 0.]\n [0. 0. 0. 0. 0. 0. 0. 0. 0. 0. 0. 0. 0. 0. 0.]\n [0. 0. 0. 0. 0. 0. 0. 0. 0. 0. 0. 0. 0. 0. 0.]\n [0. 0. 0. 0. 0. 0. 0. 0. 0. 0. 0. 0. 0. 0. 0.]\n [0. 0. 0. 0. 0. 0. 0. 0. 0. 0. 0. 0. 0. 0. 0.]\n [0. 0. 0. 0. 0. 0. 0. 0. 0. 0. 0. 0. 0. 0. 0.]\n [0. 0. 0. 0. 0. 0. 0. 0. 0. 0. 0. 0. 0. 0. 0.]\n [0. 0. 0. 0. 0. 0. 0. 0. 0. 0. 0. 0. 0. 0. 0.]\n [0. 0. 0. 0. 0. 0. 0. 0. 0. 0. 0. 0. 0. 0. 0.]\n [0. 0. 0. 0. 0. 0. 0. 0. 0. 0. 0. 0. 0. 0. 0.]]\n\n[[0. 0. 0. 0. 0. 0. 0. 0. 0. 0. 0. 0. 0. 0. 0.]\n [0. 0. 0. 0. 0. 3. 3. 3. 3. 3. 3. 3. 3. 3. 3.]\n [0. 0. 0. 0. 0. 3. 3. 3. 3. 3. 3. 3. 3. 3. 3.]\n [0. 0. 0. 0. 0. 3. 3. 3. 3. 3. 3. 3. 3. 3. 3.]\n [0. 0. 0. 0. 0. 0. 0. 0. 0. 2. 2. 2. 2. 2. 0.]\n [0. 0. 4. 4. 4. 4. 4. 4. 4. 4. 4. 4. 4. 4. 4.]\n [0. 0. 4. 4. 4. 4. 4. 4. 4. 4. 4. 4. 4. 4. 4.]\n [5. 5. 5. 5. 1. 1. 1. 1. 1. 1. 1. 1. 1. 0. 0.]\n [5. 5. 5. 5. 1. 1. 1. 1. 1. 1. 1. 1. 1. 0. 0.]\n [5. 5. 5. 5. 1. 1. 1. 1. 1. 1. 1. 1. 1. 0. 0.]\n [5. 5. 5. 5. 1. 1. 1. 1. 1. 1. 1. 1. 1. 0. 0.]\n [5. 5. 5. 5. 1. 1. 1. 1. 1. 1. 1. 1. 1. 7. 0.]\n [5. 5. 5. 5. 6. 6. 6. 6. 6. 6. 6. 6. 6. 6. 6.]\n [5. 5. 5. 5. 6. 6. 6. 6. 6. 6. 6. 6. 6. 6. 6.]\n [5. 5. 5. 5. 6. 6. 6. 6. 6. 6. 6. 6. 6. 6. 6.]]\n"
     ]
    }
   ],
   "source": [
    "#example for n=7, w=15, h=15\n",
    "example = main(7, 15, 15)\n"
   ]
  },
  {
   "cell_type": "markdown",
   "metadata": {},
   "source": [
    "# Visualization\n",
    "Visualize every tower being placed in the map sequentially, or just view the final map, depending on what you set seq to. If you make seq True, you can see every plot sequentially, if you set it to False you can see just the final plot with all the towers added."
   ]
  },
  {
   "cell_type": "code",
   "execution_count": 532,
   "metadata": {},
   "outputs": [],
   "source": [
    "import numpy as np\n",
    "import matplotlib.pyplot as plt\n",
    "import matplotlib.lines \n",
    "import matplotlib.patches as patches\n",
    "\n",
    "\n",
    "def plot_tower(rectangle_data, w, h, cur_tow):\n",
    "    '''\n",
    "    :param rectangle_data: global list with each list value (rectangle) in this form: ((starting corner as tuple), width, height)\n",
    "    :param n: int, number of total towers to be placed\n",
    "    :param cur_tow: int, number of towers we want on a figure\n",
    "    :param seq: Boolean, True gives the sequential amount of plots, False will just give the final plot\n",
    "    :return: Plot of every tower being added, or just the final one depending on the value of \"seq\"\n",
    "    '''\n",
    "    \n",
    "    figure = plt.figure()\n",
    "    ax = figure.add_subplot(111, aspect='equal')\n",
    "    current_rec=[]\n",
    "    from itertools import cycle\n",
    "    cycol = cycle('bgrcmk')\n",
    "\n",
    "    plt.ylim((w, 0))\n",
    "    plt.xlim((0, h))\n",
    "    plt.yticks(np.arange(0, h+1, 1.0))\n",
    "    plt.xticks(np.arange(0, w+1, 1.0))\n",
    "    plt.title('Current Area Map')\n",
    "    for i in rectangle_data:\n",
    "        current_rec.append(patches.Rectangle(i[0], i[1], i[2], color=cycol.next(), alpha =.5))\n",
    "    for p in range(0,cur_tow):\n",
    "        ax.add_patch(current_rec[p])\n",
    "\n",
    "\n",
    "def plotting_towers(n, w, h, seq):\n",
    "    \"\"\"\n",
    "    Plot of every tower being added, or just the final plot with all the towers, depending on the boolean value of \"seq\"\n",
    "    :param n: int, number of total towers to be placed\n",
    "    :param cur_tow: int, number of towers we want on a figure\n",
    "    :param seq: Boolean, True gives the sequential amount of plots, False will just give the final plot\n",
    "    :return: Plot of every tower being added, or just the final one depending on the value of \"seq\"\n",
    "    \"\"\"\n",
    "    assert (len(rectangle_data) == n), 'Ensure that you ran main for the same number of n before executing this'\n",
    "    \n",
    "    if(seq):\n",
    "        for i in range(0,(n+1)):\n",
    "            plot_tower(rectangle_data, w, h, i)\n",
    "    else:\n",
    "        plot_tower(rectangle_data, w, h, n)\n"
   ]
  },
  {
   "cell_type": "code",
   "execution_count": 536,
   "metadata": {},
   "outputs": [
    {
     "data": {
      "text/plain": [
       "[((4, 7), 9, 5),\n ((9, 4), 5, 1),\n ((5, 1), 10, 3),\n ((2, 5), 13, 2),\n ((0, 7), 4, 8),\n ((4, 12), 11, 3),\n ((13, 11), 1, 1)]"
      ]
     },
     "execution_count": 536,
     "metadata": {},
     "output_type": "execute_result"
    }
   ],
   "source": [
    "rectangle_data"
   ]
  },
  {
   "cell_type": "code",
   "execution_count": 537,
   "metadata": {},
   "outputs": [
    {
     "data": {
      "image/png": "[encoded data removed]",
      "text/plain": [
       "<Figure size 432x288 with 1 Axes>"
      ]
     },
     "metadata": {},
     "output_type": "display_data"
    },
    {
     "data": {
      "image/png": "[encoded data removed]",
      "text/plain": [
       "<Figure size 432x288 with 1 Axes>"
      ]
     },
     "metadata": {},
     "output_type": "display_data"
    },
    {
     "data": {
      "image/png": "[encoded data removed]",
      "text/plain": [
       "<Figure size 432x288 with 1 Axes>"
      ]
     },
     "metadata": {},
     "output_type": "display_data"
    },
    {
     "data": {
      "image/png": "[encoded data removed]",
      "text/plain": [
       "<Figure size 432x288 with 1 Axes>"
      ]
     },
     "metadata": {},
     "output_type": "display_data"
    },
    {
     "data": {
      "image/png": "[encoded data removed]",
      "text/plain": [
       "<Figure size 432x288 with 1 Axes>"
      ]
     },
     "metadata": {},
     "output_type": "display_data"
    },
    {
     "data": {
      "image/png": "[encoded data removed]",
      "text/plain": [
       "<Figure size 432x288 with 1 Axes>"
      ]
     },
     "metadata": {},
     "output_type": "display_data"
    },
    {
     "data": {
      "image/png": "[encoded data removed]",
      "text/plain": [
       "<Figure size 432x288 with 1 Axes>"
      ]
     },
     "metadata": {},
     "output_type": "display_data"
    },
    {
     "data": {
      "image/png": "[encoded data removed]",
      "text/plain": [
       "<Figure size 432x288 with 1 Axes>"
      ]
     },
     "metadata": {},
     "output_type": "display_data"
    }
   ],
   "source": [
    "# plotting_towers(n, w, h, seq): n is the total number of towers to be place, w is area width, h is area height, \n",
    "# note that you must have run previously run main for the same n, w, h , or else you will get an assertion error/value error\n",
    "\n",
    "# Example with n = 7, w = 15, h= 15 from the main example above, plotting all sequential plots\n",
    "plotting_towers(7, 15, 15, True)"
   ]
  },
  {
   "cell_type": "code",
   "execution_count": 538,
   "metadata": {},
   "outputs": [
    {
     "data": {
      "image/png": "[encoded data removed]",
      "text/plain": [
       "<Figure size 432x288 with 1 Axes>"
      ]
     },
     "metadata": {},
     "output_type": "display_data"
    }
   ],
   "source": [
    "# Example with just the final plot\n",
    "plotting_towers(7,15,15,False)"
   ]
  },
  {
   "cell_type": "markdown",
   "metadata": {},
   "source": [
    "# Example 2\n",
    "What is the total area of coverage relative to the desired total coverage area of the\n",
    "original footprint? That is, are there any gaps in coverage?\n"
   ]
  },
  {
   "cell_type": "code",
   "execution_count": 227,
   "metadata": {},
   "outputs": [],
   "source": [
    "def relative_coverage(desired, data, w, h):\n",
    "    \"\"\"\n",
    "    :param n: number of towers to be placed, is decremented every time a tower is placed\n",
    "    :param w: width of map\n",
    "    :param h: height of map\n",
    "    :param data: final updated map\n",
    "    :return: % of coverage, and percent of coverage relative to what was wanted\n",
    "    \"\"\"\n",
    "    non_zeros = np.count_nonzero(data)\n",
    "    total_points = (w*h)\n",
    "    coverage = non_zeros\n",
    "    overall_cov = (float(coverage)/float(total_points))*100\n",
    "    per_relative = (float(coverage)/float(desired))*100\n",
    "    print ('The total coverage area from this simulation is:', coverage)\n",
    "    print ('The percent of overall coverage is: ' + '{:.2f}'.format(overall_cov)+'%')\n",
    "    print ('The % coverage relative to the desired total area is: ' + '{:.2f}'.format(per_relative)+'%')"
   ]
  },
  {
   "cell_type": "code",
   "execution_count": 229,
   "metadata": {
    "collapsed": false
   },
   "outputs": [
    {
     "name": "stdout",
     "output_type": "stream",
     "text": [
      "[[2. 2. 2. 2. 2. 2. 2. 2. 2. 2. 2. 2. 2. 2. 2.]\n [2. 2. 2. 2. 2. 2. 2. 2. 2. 2. 2. 2. 2. 2. 2.]\n [2. 2. 2. 2. 2. 2. 2. 2. 2. 2. 2. 2. 2. 2. 2.]\n [2. 2. 2. 2. 2. 2. 2. 2. 2. 2. 2. 2. 2. 2. 2.]\n [2. 2. 2. 2. 2. 2. 2. 2. 2. 2. 2. 2. 2. 2. 2.]\n [0. 6. 6. 3. 3. 3. 3. 3. 3. 3. 3. 3. 3. 3. 3.]\n [0. 6. 6. 3. 3. 3. 3. 3. 3. 3. 3. 3. 3. 3. 3.]\n [0. 6. 6. 3. 3. 3. 3. 3. 3. 3. 3. 3. 3. 3. 3.]\n [0. 6. 6. 3. 3. 3. 3. 3. 3. 3. 3. 3. 3. 3. 3.]\n [1. 1. 1. 1. 1. 1. 1. 1. 1. 1. 1. 1. 1. 1. 1.]\n [1. 1. 1. 1. 1. 1. 1. 1. 1. 1. 1. 1. 1. 1. 1.]\n [0. 0. 7. 7. 7. 7. 4. 4. 4. 4. 5. 5. 5. 5. 5.]\n [0. 0. 7. 7. 7. 7. 4. 4. 4. 4. 0. 0. 0. 0. 0.]\n [0. 0. 7. 7. 7. 7. 4. 4. 4. 4. 0. 0. 0. 0. 0.]\n [0. 0. 7. 7. 7. 7. 4. 4. 4. 4. 0. 0. 0. 0. 0.]]\n('The total coverage area from this simulation is:', 198)\nThe percent of overall coverage is: 88.00%\nThe % coverage relative to the desired total area is: 132.00%\n"
     ]
    }
   ],
   "source": [
    "# relative_coverage(desired_coverage, data, w, h) \n",
    "# Example desired coverage = 150, w=15, h=15\n",
    "print example\n",
    "relative_coverage(150, example, 15, 15)"
   ]
  },
  {
   "cell_type": "markdown",
   "metadata": {},
   "source": [
    "# Example 3\n",
    "On average, how many communications towers are required before full coverage is\n",
    "obtained?<br>\n",
    "Using the Law of Large Numbers, we can assume 300 simulations will give us an average amount of towers required for full coverage in a WxH area.\n",
    "\n"
   ]
  },
  {
   "cell_type": "code",
   "execution_count": 234,
   "metadata": {},
   "outputs": [],
   "source": [
    "def num_towers_full(w, h):\n",
    "    \"\"\"\n",
    "    Given a width and height, how many towers does it take to fill up the map?\n",
    "    :param w: width of area\n",
    "    :param h: height of area\n",
    "    :return: number of towers used\n",
    "    \"\"\"\n",
    "    region = create_map(w,h)\n",
    "    x = add_tower(w,h, region)\n",
    "    count = 1\n",
    "    while(np.count_nonzero(x) < w*h):\n",
    "        x = add_tower(w,h,x)\n",
    "        count += 1\n",
    "    return count\n",
    "def average_towers_full(w, h):\n",
    "    \"\"\"\n",
    "    See how many towers it takes to fill up the map, 300 different times\n",
    "    :param w: width of area\n",
    "    :param h: height of area\n",
    "    :return: average towers it takes to fill up a map\n",
    "    \"\"\"\n",
    "    listof_numTowers = []\n",
    "    for i in range(0,300):\n",
    "        z = num_towers_full(w, h)\n",
    "        listof_numTowers.append(float(z))\n",
    "    \n",
    "    return (sum(listof_numTowers)/300.0)\n"
   ]
  },
  {
   "cell_type": "code",
   "execution_count": 235,
   "metadata": {},
   "outputs": [
    {
     "name": "stdout",
     "output_type": "stream",
     "text": [
      "12.61\n"
     ]
    }
   ],
   "source": [
    "# print(average_towers_full(w,h))\n",
    "# prints the avg number of towers needed, as a float, to fill up the map of width w and height h\n",
    "\n",
    "# Example with width =10 and height =10\n",
    "print(average_towers_full(10,10))"
   ]
  },
  {
   "cell_type": "markdown",
   "metadata": {},
   "source": [
    "# Limitations\n",
    "- Cannot choose between 2 equally sized new coverage areas\n",
    "- Cannot maximize coverage for tower since they are randomly placed\n",
    "- Random size and placement becomes a problem on a huge map when very little spaces are left available, run time can increase if the last 0 is not covered\n"
   ]
  },
  {
   "cell_type": "markdown",
   "metadata": {},
   "source": [
    "# Assumptions\n",
    "● All rectangular sections have integer-based corners. <br>\n",
    "● All rectangular sections must be contained in the overall rectangular footprint.<br>\n",
    "● The height and width of each rectangular section is sampled from a uniform<br>\n",
    "distribution.\n",
    "● Positions of the windows are also determined by uniform random distribution.<br>\n",
    "● All footprints must be rectangles (not general polygons).<br>\n",
    "● When a new tower comes online, if its coverage rectangle intersects the pre-existing\n",
    "composite footprint, then that <br>new tower’s coverage is trimmed such that its\n",
    "maximum remaining coverage area is retained \n",
    "- Law of Large Numbers: 300 simulations is enough for an accurate average <br>\n",
    "\t- An example of the Law of Large numbers can be seen here [Graph of Law of Large Numbers](https://en.wikipedia.org/wiki/Law_of_large_numbers#/media/File:Lawoflargenumbers.svg)"
   ]
  },
  {
   "cell_type": "markdown",
   "metadata": {},
   "source": [
    "# Analysis\n",
    "- This notebook shows an algorithm to maximize tower coverage when towers are randomly placed and sized. It can be used as a comparison tool to compare with an alogithm based tower placement. "
   ]
  },
  {
   "cell_type": "code",
   "execution_count": null,
   "metadata": {},
   "outputs": [],
   "source": []
  }
 ],
 "metadata": {
  "kernelspec": {
   "display_name": "Python 2",
   "language": "python",
   "name": "python2"
  },
  "language_info": {
   "codemirror_mode": {
    "name": "ipython",
    "version": 2
   },
   "file_extension": ".py",
   "mimetype": "text/x-python",
   "name": "python",
   "nbconvert_exporter": "python",
   "pygments_lexer": "ipython2",
   "version": "2.7.14"
  }
 },
 "nbformat": 4,
 "nbformat_minor": 1
}
