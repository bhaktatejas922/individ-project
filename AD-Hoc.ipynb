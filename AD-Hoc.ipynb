{
 "cells": [
  {
   "cell_type": "markdown",
   "metadata": {
    "collapsed": true
   },
   "source": [
    "#Analysis of Ad-Hoc Communications Network\n",
    "The user can supply the overall size of desired coverage footprint andthen we will determine the following:\n",
    "\n",
    "- Given an overall desired coverage footprint and a sequence of n communications\n",
    "towers, what is the resulting resolved coverage?\n",
    "- What is the total area of coverage relative to the desired total coverage area of the\n",
    "original footprint? That is, are there any gaps in coverage?\n",
    "- On average, how many communications towers are required before full coverage is\n",
    "obtained?"
   ]
  },
  {
   "cell_type": "markdown",
   "metadata": {},
   "source": [
    "Inputs w and h represent width and height of the desired region map to analyze, respectively "
   ]
  },
  {
   "cell_type": "code",
   "execution_count": null,
   "metadata": {},
   "outputs": [],
   "source": []
  },
  {
   "cell_type": "code",
   "execution_count": null,
   "metadata": {},
   "outputs": [],
   "source": [
    "%matplotlib inline"
   ]
  },
  {
   "cell_type": "code",
   "execution_count": null,
   "metadata": {},
   "outputs": [],
   "source": [
    "import numpy as np\n",
    "def create_map(w,h):\n",
    "    \"\"\"\n",
    "    Create a blank region area based on user input w and h\n",
    "    :param w: width of the desired area \n",
    "    :param h: height of desired area\n",
    "    :return: numpy area of 0's which will represent the blank map area\n",
    "    \"\"\"\n",
    "    assert isinstance(w, int)\n",
    "    assert isinstance(h, int)\n",
    "    assert w>0\n",
    "    assert h>0\n",
    "    \n",
    "    x = np.zeros(h,w)\n",
    "    return x"
   ]
  },
  {
   "cell_type": "markdown",
   "metadata": {},
   "source": [
    "Input n represents the numbers of towers"
   ]
  },
  {
   "cell_type": "code",
   "execution_count": 4,
   "metadata": {},
   "outputs": [],
   "source": [
    "import numpy as np\n",
    "\n",
    "def add_towers(n,w,h):\n",
    "    \"\"\"\n",
    "    Adds tower, and yreturns so that each step can be shown in a visualization\n",
    "    :param n: number of towers\n",
    "    :param w: width of region map\n",
    "    :param h: height of region map\n",
    "    :return: updated map with one tower added\n",
    "    \"\"\"\n",
    "    import random\n",
    "    import itertools\n",
    "    if (n):\n",
    "        # determines which corner to start at\n",
    "        start_cornerw= random.randint(1, w+1)\n",
    "        start_cornerh= random.randint(1, h+1)\n",
    "        \n",
    "        # determines random width and height of rectangle (minimum 1)\n",
    "        width_value=random.randint(1, w+1)\n",
    "        height_value=random.randint(1, h+1)\n",
    "        \n",
    "        \n",
    "        "
   ]
  },
  {
   "cell_type": "code",
   "execution_count": 4,
   "metadata": {},
   "outputs": [],
   "source": [
    "\n"
   ]
  },
  {
   "cell_type": "code",
   "execution_count": null,
   "metadata": {},
   "outputs": [],
   "source": [
    ""
   ]
  },
  {
   "cell_type": "code",
   "execution_count": null,
   "metadata": {},
   "outputs": [],
   "source": [
    ""
   ]
  },
  {
   "cell_type": "code",
   "execution_count": null,
   "metadata": {},
   "outputs": [],
   "source": [
    ""
   ]
  },
  {
   "cell_type": "code",
   "execution_count": null,
   "metadata": {},
   "outputs": [],
   "source": []
  },
  {
   "cell_type": "code",
   "execution_count": null,
   "metadata": {},
   "outputs": [],
   "source": []
  }
 ],
 "metadata": {
  "kernelspec": {
   "display_name": "Python 2",
   "language": "python",
   "name": "python2"
  },
  "language_info": {
   "codemirror_mode": {
    "name": "ipython",
    "version": 2
   },
   "file_extension": ".py",
   "mimetype": "text/x-python",
   "name": "python",
   "nbconvert_exporter": "python",
   "pygments_lexer": "ipython2",
   "version": "2.7.14"
  }
 },
 "nbformat": 4,
 "nbformat_minor": 1
}
