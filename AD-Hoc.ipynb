{
 "cells": [
  {
   "cell_type": "markdown",
   "metadata": {
    "collapsed": true
   },
   "source": [
    "#Analysis of Ad-Hoc Communications Network\n",
    "The user can supply the overall size of desired coverage footprint andthen we will determine the following:\n",
    "\n",
    "- Given an overall desired coverage footprint and a sequence of n communications\n",
    "towers, what is the resulting resolved coverage?\n",
    "- What is the total area of coverage relative to the desired total coverage area of the\n",
    "original footprint? That is, are there any gaps in coverage?\n",
    "- On average, how many communications towers are required before full coverage is\n",
    "obtained?"
   ]
  },
  {
   "cell_type": "code",
   "execution_count": null,
   "metadata": {},
   "outputs": [],
   "source": []
  }
 ],
 "metadata": {
  "kernelspec": {
   "display_name": "Python 2",
   "language": "python",
   "name": "python2"
  },
  "language_info": {
   "codemirror_mode": {
    "name": "ipython",
    "version": 2
   },
   "file_extension": ".py",
   "mimetype": "text/x-python",
   "name": "python",
   "nbconvert_exporter": "python",
   "pygments_lexer": "ipython2",
   "version": "2.7.6"
  }
 },
 "nbformat": 4,
 "nbformat_minor": 0
}
